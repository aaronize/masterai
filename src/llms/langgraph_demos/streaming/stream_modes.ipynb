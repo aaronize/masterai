{
 "cells": [
  {
   "cell_type": "markdown",
   "id": "0cde2269-4c82-4b77-8286-7e6440dd62f6",
   "metadata": {},
   "source": [
    "# Stream modes"
   ]
  },
  {
   "cell_type": "markdown",
   "id": "0705c7f6-7a00-4141-a709-56009caa4389",
   "metadata": {},
   "source": [
    "LangGraph支持多种流式模式。主要有如下：\n",
    "- `values`: 这种模式下会返回历史的Messages记录；\n",
    "- `updates`: 这种模式下只返回当前最新的Messages。"
   ]
  },
  {
   "cell_type": "markdown",
   "id": "763fdbd1-8899-4d74-ad73-0660beff0202",
   "metadata": {},
   "source": [
    "# Stream full state"
   ]
  },
  {
   "cell_type": "code",
   "execution_count": 2,
   "id": "19d1426b-2fab-4b3d-8339-99d44227364b",
   "metadata": {},
   "outputs": [],
   "source": [
    "from typing import Literal\n",
    "from langchain_community.tools.tavily_search import TavilySearchResults\n",
    "from langchain_core.runnables import ConfigurableField\n",
    "from langchain_core.tools import tool\n",
    "from langchain_openai import ChatOpenAI\n",
    "from langgraph.prebuilt import create_react_agent\n",
    "\n",
    "\n",
    "@tool\n",
    "def get_weather(city: Literal[\"nyc\", \"sf\"]):\n",
    "    \"\"\"Use this to get weather information.\"\"\"\n",
    "    if city == \"nyc\":\n",
    "        return \"It might be cloudy in nyc\"\n",
    "    elif city == \"sf\":\n",
    "        return \"It's always sunny in sf\"\n",
    "    else:\n",
    "        raise AssertionError(\"Unknown city\")\n",
    "\n",
    "\n",
    "tools = [get_weather]\n",
    "\n",
    "model = ChatOpenAI(temperature=0)\n",
    "graph = create_react_agent(model, tools)"
   ]
  },
  {
   "cell_type": "code",
   "execution_count": null,
   "id": "ffc313ae-150d-4452-b14e-bb46b3329c15",
   "metadata": {},
   "outputs": [],
   "source": []
  },
  {
   "cell_type": "code",
   "execution_count": 8,
   "id": "2a686a31-36f1-49f0-a026-3c4325dfde5e",
   "metadata": {},
   "outputs": [
    {
     "name": "stdout",
     "output_type": "stream",
     "text": [
      "{'messages': [HumanMessage(content=\"what's the weather in sf\", id='38d7d861-5882-4649-b137-0f1c364ae84a')]}\n",
      "{'messages': [HumanMessage(content=\"what's the weather in sf\", id='38d7d861-5882-4649-b137-0f1c364ae84a'), AIMessage(content='', additional_kwargs={'tool_calls': [{'id': 'call_1j4koz2Pe0ImqZrFqiaX2Q6b', 'function': {'arguments': '{\"city\":\"sf\"}', 'name': 'get_weather'}, 'type': 'function'}]}, response_metadata={'token_usage': {'completion_tokens': 14, 'prompt_tokens': 57, 'total_tokens': 71}, 'model_name': 'gpt-4o', 'system_fingerprint': 'fp_c832e4513b', 'finish_reason': 'tool_calls', 'logprobs': None}, id='run-8ab7fd69-e767-49ba-9dd5-2b099518abf9-0', tool_calls=[{'name': 'get_weather', 'args': {'city': 'sf'}, 'id': 'call_1j4koz2Pe0ImqZrFqiaX2Q6b', 'type': 'tool_call'}], usage_metadata={'input_tokens': 57, 'output_tokens': 14, 'total_tokens': 71})]}\n",
      "{'messages': [HumanMessage(content=\"what's the weather in sf\", id='38d7d861-5882-4649-b137-0f1c364ae84a'), AIMessage(content='', additional_kwargs={'tool_calls': [{'id': 'call_1j4koz2Pe0ImqZrFqiaX2Q6b', 'function': {'arguments': '{\"city\":\"sf\"}', 'name': 'get_weather'}, 'type': 'function'}]}, response_metadata={'token_usage': {'completion_tokens': 14, 'prompt_tokens': 57, 'total_tokens': 71}, 'model_name': 'gpt-4o', 'system_fingerprint': 'fp_c832e4513b', 'finish_reason': 'tool_calls', 'logprobs': None}, id='run-8ab7fd69-e767-49ba-9dd5-2b099518abf9-0', tool_calls=[{'name': 'get_weather', 'args': {'city': 'sf'}, 'id': 'call_1j4koz2Pe0ImqZrFqiaX2Q6b', 'type': 'tool_call'}], usage_metadata={'input_tokens': 57, 'output_tokens': 14, 'total_tokens': 71}), ToolMessage(content=\"It's always sunny in sf\", name='get_weather', id='29ba53c8-eee8-4ed7-ac51-7d624be7de37', tool_call_id='call_1j4koz2Pe0ImqZrFqiaX2Q6b')]}\n",
      "{'messages': [HumanMessage(content=\"what's the weather in sf\", id='38d7d861-5882-4649-b137-0f1c364ae84a'), AIMessage(content='', additional_kwargs={'tool_calls': [{'id': 'call_1j4koz2Pe0ImqZrFqiaX2Q6b', 'function': {'arguments': '{\"city\":\"sf\"}', 'name': 'get_weather'}, 'type': 'function'}]}, response_metadata={'token_usage': {'completion_tokens': 14, 'prompt_tokens': 57, 'total_tokens': 71}, 'model_name': 'gpt-4o', 'system_fingerprint': 'fp_c832e4513b', 'finish_reason': 'tool_calls', 'logprobs': None}, id='run-8ab7fd69-e767-49ba-9dd5-2b099518abf9-0', tool_calls=[{'name': 'get_weather', 'args': {'city': 'sf'}, 'id': 'call_1j4koz2Pe0ImqZrFqiaX2Q6b', 'type': 'tool_call'}], usage_metadata={'input_tokens': 57, 'output_tokens': 14, 'total_tokens': 71}), ToolMessage(content=\"It's always sunny in sf\", name='get_weather', id='29ba53c8-eee8-4ed7-ac51-7d624be7de37', tool_call_id='call_1j4koz2Pe0ImqZrFqiaX2Q6b'), AIMessage(content='The weather in San Francisco is currently sunny.', response_metadata={'token_usage': {'completion_tokens': 10, 'prompt_tokens': 84, 'total_tokens': 94}, 'model_name': 'gpt-4o', 'system_fingerprint': 'fp_c832e4513b', 'finish_reason': 'stop', 'logprobs': None}, id='run-b237d876-a7b5-46d4-9a53-495ad7d144cb-0', usage_metadata={'input_tokens': 84, 'output_tokens': 10, 'total_tokens': 94})]}\n"
     ]
    }
   ],
   "source": [
    "inputs = {\"messages\": [(\"human\", \"what's the weather in sf\")]}\n",
    "async for chunk in graph.astream(inputs, stream_mode=\"values\"):\n",
    "    # chunk[\"messages\"][-1].pretty_print()\n",
    "    print(chunk)"
   ]
  },
  {
   "cell_type": "markdown",
   "id": "78ddb2fe-6fe6-4951-9505-f42268e71c30",
   "metadata": {},
   "source": [
    "## 只获取最终结果\n",
    "如果只想获取最终的结果，可以使用如下形式："
   ]
  },
  {
   "cell_type": "code",
   "execution_count": 4,
   "id": "1e551d79-a0f7-4156-a258-194dc3df0514",
   "metadata": {},
   "outputs": [],
   "source": [
    "inputs = {\"messages\": [(\"human\", \"what's the weather in sf\")]}\n",
    "async for chunk in graph.astream(inputs, stream_mode=\"values\"):\n",
    "    final_result = chunk"
   ]
  },
  {
   "cell_type": "code",
   "execution_count": 5,
   "id": "3bc99be9-75ba-49b2-b38f-01fa617ddf14",
   "metadata": {},
   "outputs": [
    {
     "data": {
      "text/plain": [
       "{'messages': [HumanMessage(content=\"what's the weather in sf\", id='bfbba8ba-fbe5-4b11-8aa0-86b1973c7f06'),\n",
       "  AIMessage(content='', additional_kwargs={'tool_calls': [{'id': 'call_mByEhXUAB8NkCnuwkgfGpzBr', 'function': {'arguments': '{\"city\":\"sf\"}', 'name': 'get_weather'}, 'type': 'function'}]}, response_metadata={'token_usage': {'completion_tokens': 14, 'prompt_tokens': 57, 'total_tokens': 71}, 'model_name': 'gpt-4o', 'system_fingerprint': 'fp_3cd8b62c3b', 'finish_reason': 'tool_calls', 'logprobs': None}, id='run-d623d511-99c1-416f-84b7-b78a46873025-0', tool_calls=[{'name': 'get_weather', 'args': {'city': 'sf'}, 'id': 'call_mByEhXUAB8NkCnuwkgfGpzBr', 'type': 'tool_call'}], usage_metadata={'input_tokens': 57, 'output_tokens': 14, 'total_tokens': 71}),\n",
       "  ToolMessage(content=\"It's always sunny in sf\", name='get_weather', id='c4fb2df8-6b2e-4d6f-8a82-073d6c14a9e3', tool_call_id='call_mByEhXUAB8NkCnuwkgfGpzBr'),\n",
       "  AIMessage(content='The weather in San Francisco is currently sunny.', response_metadata={'token_usage': {'completion_tokens': 10, 'prompt_tokens': 84, 'total_tokens': 94}, 'model_name': 'gpt-4o', 'system_fingerprint': 'fp_4e2b2da518', 'finish_reason': 'stop', 'logprobs': None}, id='run-997fdf93-04f1-4bc3-ad96-2c0a773762cf-0', usage_metadata={'input_tokens': 84, 'output_tokens': 10, 'total_tokens': 94})]}"
      ]
     },
     "execution_count": 5,
     "metadata": {},
     "output_type": "execute_result"
    }
   ],
   "source": [
    "final_result"
   ]
  },
  {
   "cell_type": "markdown",
   "id": "5bd2a049-a255-4f97-a8e1-3341255e874c",
   "metadata": {},
   "source": [
    "# Stream state updates of your graph"
   ]
  },
  {
   "cell_type": "code",
   "execution_count": 7,
   "id": "3e3a0e1e-a51c-4b54-85ee-1455333d2b15",
   "metadata": {},
   "outputs": [
    {
     "name": "stdout",
     "output_type": "stream",
     "text": [
      "Receiving update from node: 'agent'\n",
      "{'messages': [AIMessage(content='', additional_kwargs={'tool_calls': [{'id': 'call_e3w46QemI5PiVia3qVc4I3uE', 'function': {'arguments': '{\"city\":\"sf\"}', 'name': 'get_weather'}, 'type': 'function'}]}, response_metadata={'token_usage': {'completion_tokens': 14, 'prompt_tokens': 57, 'total_tokens': 71}, 'model_name': 'gpt-4o', 'system_fingerprint': 'fp_c832e4513b', 'finish_reason': 'tool_calls', 'logprobs': None}, id='run-791e495b-e87a-4b3c-a982-e0ee1a41aa95-0', tool_calls=[{'name': 'get_weather', 'args': {'city': 'sf'}, 'id': 'call_e3w46QemI5PiVia3qVc4I3uE', 'type': 'tool_call'}], usage_metadata={'input_tokens': 57, 'output_tokens': 14, 'total_tokens': 71})]}\n",
      "\n",
      "\n",
      "\n",
      "Receiving update from node: 'tools'\n",
      "{'messages': [ToolMessage(content=\"It's always sunny in sf\", name='get_weather', tool_call_id='call_e3w46QemI5PiVia3qVc4I3uE')]}\n",
      "\n",
      "\n",
      "\n",
      "Receiving update from node: 'agent'\n",
      "{'messages': [AIMessage(content='The weather in San Francisco is currently sunny.', response_metadata={'token_usage': {'completion_tokens': 10, 'prompt_tokens': 84, 'total_tokens': 94}, 'model_name': 'gpt-4o', 'system_fingerprint': 'fp_4e2b2da518', 'finish_reason': 'stop', 'logprobs': None}, id='run-48efbf8f-f7b7-447c-b0aa-d59b3fa01747-0', usage_metadata={'input_tokens': 84, 'output_tokens': 10, 'total_tokens': 94})]}\n",
      "\n",
      "\n",
      "\n"
     ]
    }
   ],
   "source": [
    "inputs = {\"messages\": [(\"human\", \"what's the weather in sf\")]}\n",
    "async for chunk in graph.astream(inputs, stream_mode=\"updates\"):\n",
    "    for node, values in chunk.items():\n",
    "        print(f\"Receiving update from node: '{node}'\")\n",
    "        print(values)\n",
    "        print(\"\\n\\n\")"
   ]
  },
  {
   "cell_type": "code",
   "execution_count": null,
   "id": "e8ba260e-4236-4108-8a85-e460dd032207",
   "metadata": {},
   "outputs": [],
   "source": []
  }
 ],
 "metadata": {
  "kernelspec": {
   "display_name": "Python 3 (ipykernel)",
   "language": "python",
   "name": "python3"
  },
  "language_info": {
   "codemirror_mode": {
    "name": "ipython",
    "version": 3
   },
   "file_extension": ".py",
   "mimetype": "text/x-python",
   "name": "python",
   "nbconvert_exporter": "python",
   "pygments_lexer": "ipython3",
   "version": "3.11.9"
  }
 },
 "nbformat": 4,
 "nbformat_minor": 5
}
