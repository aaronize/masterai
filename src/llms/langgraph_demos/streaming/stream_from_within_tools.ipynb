{
 "cells": [
  {
   "cell_type": "markdown",
   "id": "4d862e7d-d6fa-4c0a-b202-ee11039281df",
   "metadata": {},
   "source": [
    "# Stream events from within tools"
   ]
  },
  {
   "cell_type": "code",
   "execution_count": 1,
   "id": "be0f2b13-bcb0-4bb6-bcdb-48e26414379c",
   "metadata": {},
   "outputs": [],
   "source": [
    "from langchain_core.callbacks import Callbacks\n",
    "from langchain_core.prompts import ChatPromptTemplate\n",
    "from langchain_core.tools import tool\n",
    "\n",
    "from langgraph.prebuilt import create_react_agent\n",
    "from langchain_openai import ChatOpenAI"
   ]
  },
  {
   "cell_type": "code",
   "execution_count": 2,
   "id": "da29b156-a201-4bf1-81ce-5d9279b139e7",
   "metadata": {},
   "outputs": [],
   "source": [
    "# define tool\n",
    "@tool\n",
    "async def get_items(\n",
    "    place: str, callbacks: Callbacks\n",
    ") -> str:  # <--- Accept callbacks (Python <= 3.10)\n",
    "    \"\"\"Use this tool to look up which items are in the given place.\"\"\"\n",
    "    template = ChatPromptTemplate.from_messages(\n",
    "        [\n",
    "            (\n",
    "                \"human\",\n",
    "                \"Can you tell me what kind of items i might find in the following place: '{place}'. \"\n",
    "                \"List at least 3 such items separating them by a comma. And include a brief description of each item..\",\n",
    "            )\n",
    "        ]\n",
    "    )\n",
    "    chain = template | llm.with_config(\n",
    "        {\n",
    "            \"run_name\": \"Get Items LLM\",\n",
    "            \"tags\": [\"tool_llm\"],\n",
    "            \"callbacks\": callbacks,  # <-- Propagate callbacks (Python <= 3.10)\n",
    "        }\n",
    "    )\n",
    "    chunks = [chunk async for chunk in chain.astream({\"place\": place})]\n",
    "    return \"\".join(chunk.content for chunk in chunks)"
   ]
  },
  {
   "cell_type": "code",
   "execution_count": 3,
   "id": "7c79b012-ea8f-4e15-8486-0867a57c6cdf",
   "metadata": {},
   "outputs": [],
   "source": [
    "llm = ChatOpenAI(model_name=\"gpt-3.5-turbo\")\n",
    "tools = [get_items]\n",
    "agent = create_react_agent(llm, tools=tools)"
   ]
  },
  {
   "cell_type": "code",
   "execution_count": 4,
   "id": "20d90118-8d48-4226-9090-c319c6d04367",
   "metadata": {},
   "outputs": [
    {
     "name": "stderr",
     "output_type": "stream",
     "text": [
      "/Users/aaron/Workspace/masterai/venv/lib/python3.11/site-packages/langchain_core/_api/beta_decorator.py:87: LangChainBetaWarning: This API is in beta and may change in the future.\n",
      "  warn_beta(\n"
     ]
    },
    {
     "name": "stdout",
     "output_type": "stream",
     "text": [
      "1. Books: Books are typically found on shelves and can range from fiction novels to reference books. They are used for reading and gaining knowledge on various topics.\n",
      "\n",
      "2. Picture frames: Picture frames are common decor items found on shelves to display photos or artwork. They come in various sizes and designs to complement the overall aesthetic of the space.\n",
      "\n",
      "3. Decorative figurines: Decorative figurines are small statues or sculptures that are placed on shelves for aesthetic purposes. They can be made of various materials such as ceramic, metal, or wood, and can depict animals, people, or abstract shapes."
     ]
    }
   ],
   "source": [
    "async for event in agent.astream_events(\n",
    "    {\"messages\": [(\"human\", \"what items are on the shelf?\")]}, version=\"v2\"\n",
    "):\n",
    "    tags = event.get(\"tags\", [])\n",
    "    if event[\"event\"] == \"on_chat_model_stream\" and \"tool_llm\" in tags:\n",
    "        print(event[\"data\"][\"chunk\"].content, end=\"\", flush=True)"
   ]
  },
  {
   "cell_type": "code",
   "execution_count": null,
   "id": "c0d7496b-1f1c-4d8d-be7f-592df1281793",
   "metadata": {},
   "outputs": [],
   "source": []
  }
 ],
 "metadata": {
  "kernelspec": {
   "display_name": "Python 3 (ipykernel)",
   "language": "python",
   "name": "python3"
  },
  "language_info": {
   "codemirror_mode": {
    "name": "ipython",
    "version": 3
   },
   "file_extension": ".py",
   "mimetype": "text/x-python",
   "name": "python",
   "nbconvert_exporter": "python",
   "pygments_lexer": "ipython3",
   "version": "3.11.9"
  }
 },
 "nbformat": 4,
 "nbformat_minor": 5
}
